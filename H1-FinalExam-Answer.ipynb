{
 "cells": [
  {
   "cell_type": "markdown",
   "metadata": {
    "deletable": true,
    "editable": true
   },
   "source": [
    "## プログラミング言語 I  前期期末試験問題　　　　　　　番号　　　　 氏名"
   ]
  },
  {
   "cell_type": "markdown",
   "metadata": {
    "deletable": true,
    "editable": true
   },
   "source": [
    "## Q1\n",
    "\n",
    "#### タクシーの料金\n",
    "\n",
    "釧路市の小型タクシーの料金は\n",
    "\n",
    "|釧路市の小型のタクシー料金   ||\n",
    "|-----------------------------|------:|\n",
    "|初乗運賃 1400m まで          | 550円 |\n",
    "|以後 310m ごとに             | 80円  |\n",
    "\n",
    "\n",
    "となっている\n",
    "\n",
    "距離(m) を与えて、運賃(円)を返す 手続きを作成せよ\n",
    "\n",
    "手続きの定義と以下の距離についての運賃を計算した実行例を示せ(もちろん、実際の距離とはちがうかもしれないよ）\n",
    "\n",
    "* 釧路駅から釧路高専の距離 11300 m\n",
    "* 大楽毛駅から釧路高専の距離 1300 m\n",
    "* 釧路赤十字病院から釧路高専の距離 10800 m\n",
    "\n",
    "もちろん タクシーの料金だから、初乗り以降は 80円ずつきっちり加算されるよ。\n",
    "\n",
    "だから 1111 とか  ましてや   100000/31 とかの値になる答えはダメだよ。\n"
   ]
  },
  {
   "cell_type": "markdown",
   "metadata": {
    "deletable": true,
    "editable": true
   },
   "source": [
    "### 解説\n",
    "\n",
    "1400ｍをちょっとでも超えたらメータが上がって 630円なのか、1400mを超えても、さらに310ｍ進んだ時に初めて630円なのか\n",
    "（考えを、式にできるかが大事なので、どちらでもよいのですが）ここでは、後者であると考えて例を作っています。\n",
    "\n",
    "この問題でも商を求めることが必要です。\n",
    "\n",
    "算数で\n",
    "\n",
    "$ A ÷ B = C \\dots 余り D $\n",
    "\n",
    "の計算の $ C $  を求めるのが quotient で $ D $ を求めるが moduloとかremainder です. 忘れないでください。\n",
    "$C$ を商、$D$ を剰余と呼びます\n",
    "\n",
    "でも、忘れても、その場でなんとかできます。\n",
    "\n",
    "例えば quotientは忘れても truncate を覚えていれば 自然数なら (truncate (/ A B)) で整数になりますね\n",
    "\n",
    "また moduloやremainder を覚えているなら　　(/ (- A (remainder A B) B) とかで Cが得られます.\n",
    "割り切れない原因である。余りの部分を引いてから割れば、ちょうど割り切れますね。\n",
    "\n",
    "さらに、これから勉強する再帰のテクニックを使うと\n",
    "\n",
    "```scheme\n",
    "(define syo (lambda (a b) (if (< a b) 0 (+ 1 (syo (- a b) b)) )))　\n",
    "```\n",
    "で quotient 相当の手続きがすぐ作れます"
   ]
  },
  {
   "cell_type": "code",
   "execution_count": 1,
   "metadata": {
    "collapsed": false,
    "deletable": true,
    "editable": true
   },
   "outputs": [
    {
     "name": "stdout",
     "output_type": "stream",
     "text": [
      " taxipay1\r\n",
      " taxipay\r\n",
      " 3030\r\n",
      " 550\r\n",
      " 2950\r\n"
     ]
    }
   ],
   "source": [
    "(define taxipay1 (lambda (m) (if (<= m 1400) 550 (+ 550 (* (quotient (- m 1400) 310) 80)))))\n",
    "\n",
    "; 上の解答は冗長ですね、以下のように書けばスッキリしますか？　\n",
    "\n",
    "(define taxipay (lambda (m) (+ 550 (* (quotient (- m 1400) 310) 80))))\n",
    "\n",
    "(taxipay1 11300)\n",
    "(taxipay1 1300)\n",
    "(taxipay1 10800)"
   ]
  },
  {
   "cell_type": "markdown",
   "metadata": {
    "deletable": true,
    "editable": true
   },
   "source": [
    "    \n",
    "## Q2\n",
    "    \n",
    "\n",
    "#### 複利計算\n",
    "\n",
    "例えば 10000 円を 1月あたりの利息 1% で　預けると 1ヶ月後には 利子が 100 円ついて 10100 円となります。\n",
    "\n",
    "この10100 円に対してもう一度利息 1% で預けると さら に 1ヶ月後(つまり最初から2ヶ月後）には 利子が 101円ついて 10201 円となります。\n",
    "\n",
    "このように、利子を元金に組み入れる預金方法は 複利法(compound interest method)と呼ばれています。\n",
    "\n",
    "みなさんは、数列を勉強しているので これらの計算法を導けるはずですが、ここでは、そこには立ち入りません。\n",
    "\n",
    "一般に $ A円 $ を 利息 $r $ % で 複利法で預けると $N$ ヶ月後には \n",
    "\n",
    "$$ A (1+r)^N $$\n",
    "\n",
    "円になります\n",
    "\n",
    "最初の例では 1月後は $ 10000 (1+0.01)^1 = 10100 $　2月後は $ 10000 (1+0.01)^2 = 10201 $ となっています。\n",
    "\n",
    "$ A円 $ を 利息 $r $ % で 複利法で預けたときの $N$ ヶ月後の 金額を求める手続きを作成せよ.\n",
    "（この問題では1円未満の金額については 切り捨てや切り上げなどの処理はせずに そのまま表示してもよいことにします）\n",
    "\n",
    "手続きの定義と \n",
    "\n",
    " 10000 円 が 10倍以上（つまり 100000円以上に）になるように    r , N （試行錯誤で) 見つけて 実行例として示せ。\n",
    "\n",
    " 1000 円 が 100倍以上（つまり 100000円以上に）になるように    r , N を（試行錯誤で) 見つけて 実行例として示せ。\n"
   ]
  },
  {
   "cell_type": "code",
   "execution_count": 2,
   "metadata": {
    "collapsed": false,
    "deletable": true,
    "editable": true,
    "scrolled": true
   },
   "outputs": [
    {
     "name": "stdout",
     "output_type": "stream",
     "text": [
      " fukuri\r\n",
      " 10100.0\r\n",
      " 10201.0\r\n",
      " 101150.26353896975\r\n",
      " 102313.75814003035\r\n"
     ]
    }
   ],
   "source": [
    ";式を手続きにするだけの問題ですね\n",
    "\n",
    "(define fukuri (lambda (A N r) (* A (expt (+ 1 r) N))))\n",
    "\n",
    "\n",
    "(fukuri 10000 1 0.01)\n",
    "(fukuri 10000 2 0.01)\n",
    "(fukuri 10000 59 0.04)\n",
    "(fukuri 1000 118 0.04)"
   ]
  },
  {
   "cell_type": "markdown",
   "metadata": {
    "deletable": true,
    "editable": true
   },
   "source": [
    "## Q3\n",
    "\n",
    "#### アーチェリーの点数\n",
    "\n",
    "直径80cm のアーチェリーの的 \n",
    "は 中心から 4cm以内に矢が当たると 10点、さらに 4cm刻みで 9点、8点, ..... 1点 と点数がつけられるそうです。中心からの距離が40cm を超えると的をはずすことになって 0点となります。真ん中に当たれば 中心からの距離は 0cm で点数はもちろん 10点です。\n",
    "\n",
    "<table>\n",
    "<thead><tr>\n",
    "<th style=\"text-align:center\">的</th>\n",
    "<th style=\"text-align:center\">的の色</th>\n",
    "<th style=\"text-align:right\">中心からの距離</th>\n",
    "<th style=\"text-align:right\">点数</th>\n",
    "</tr>\n",
    "</thead>\n",
    "<tbody>\n",
    "<tr>\n",
    "<td rowspan=\"11\"><img src='mato.png'>\n",
    "</td>\n",
    "<td style=\"text-align:center\"><font color=\"Gold\">黄</font></td>\n",
    "<td style=\"text-align:right\">4cm以内</td>\n",
    "<td style=\"text-align:right\">10</td>\n",
    "</tr>\n",
    "<tr>\n",
    "<td style=\"text-align:center\"><font color=\"Gold\">黄</font></td>\n",
    "<td style=\"text-align:right\">8cm以内</td>\n",
    "<td style=\"text-align:right\">9</td>\n",
    "</tr>\n",
    "<tr>\n",
    "<td style=\"text-align:center\"><font color=\"Red\">赤</font></td>\n",
    "<td style=\"text-align:right\">12cm以内</td>\n",
    "<td style=\"text-align:right\">8</td>\n",
    "</tr>\n",
    "<tr>\n",
    "<td style=\"text-align:center\"><font color=\"Red\">赤</font></td>\n",
    "<td style=\"text-align:right\">16cm以内</td>\n",
    "<td style=\"text-align:right\">7</td>\n",
    "</tr>\n",
    "<tr>\n",
    "<td style=\"text-align:center\"><font color=\"Blue\">青</font></td>\n",
    "<td style=\"text-align:right\">20cm以内</td>\n",
    "<td style=\"text-align:right\">6</td>\n",
    "</tr>\n",
    "<tr>\n",
    "<td style=\"text-align:center\"><font color=\"Blue\">青</font></td>\n",
    "<td style=\"text-align:right\">24cm以内</td>\n",
    "<td style=\"text-align:right\">5</td>\n",
    "</tr>\n",
    "<tr>\n",
    "<td style=\"text-align:center\">黒</td>\n",
    "<td style=\"text-align:right\">28cm以内</td>\n",
    "<td style=\"text-align:right\">4</td>\n",
    "</tr>\n",
    "<tr>\n",
    "<td style=\"text-align:center\">黒</td>\n",
    "<td style=\"text-align:right\">32cm以内</td>\n",
    "<td style=\"text-align:right\">3</td>\n",
    "</tr>\n",
    "<tr>\n",
    "<td style=\"text-align:center\">白</td>\n",
    "<td style=\"text-align:right\">36cm以内</td>\n",
    "<td style=\"text-align:right\">2</td>\n",
    "</tr>\n",
    "<tr>\n",
    "<td style=\"text-align:center\">白</td>\n",
    "<td style=\"text-align:right\">40cm以内</td>\n",
    "<td style=\"text-align:right\">1</td>\n",
    "</tr>\n",
    "<tr>\n",
    "<td style=\"text-align:center\">外れ</td>\n",
    "<td style=\"text-align:right\">40cmより大きい</td>\n",
    "<td style=\"text-align:right\">0</td>\n",
    "</tr>\n",
    "</tbody>\n",
    "</table>\n",
    "\n",
    "\n",
    "中心の座標を 原点(0,0) として、矢が当たった座標 (x,y) をリストで与えて 点数を返す手続きを作成せよ。　\n",
    "\n",
    "もちろん 原点(0,0) と (x,y) の 距離が $r$ の時 $ r^2 = x^2 + y^2 $ ですね.\n",
    "\n",
    "手続きの定義と 矢の座標が以下の時の 実行例(5つ)を示せ\n",
    "\n",
    "(1.454 7.041) \n",
    "(33.038 6.026)\n",
    "(5.127 10.207) \n",
    "(-15.112 20.137)\n",
    "(1.357 3.505) \n"
   ]
  },
  {
   "cell_type": "markdown",
   "metadata": {
    "deletable": true,
    "editable": true
   },
   "source": [
    "### 解説\n",
    "\n",
    "距離 $ r = \\sqrt{x^2 + y^2} $ ですが $\\sqrt{}$ の計算はさせないで、$r^2 $で比較したほうが、簡単ではありませんか？\n",
    " \n",
    " あと$ N^2 $ は $ N*N $でもよいですよね\n",
    " \n",
    " \n",
    " Gaucheでは (expt n 2)でも  (* n n) でも　どちらでも"
   ]
  },
  {
   "cell_type": "code",
   "execution_count": 3,
   "metadata": {
    "collapsed": false,
    "deletable": true,
    "editable": true,
    "scrolled": true
   },
   "outputs": [
    {
     "name": "stdout",
     "output_type": "stream",
     "text": [
      " arcpoint\r\n",
      " 9\r\n"
     ]
    }
   ],
   "source": [
    ";単純な場合分けの問題\n",
    "\n",
    "(define arcpoint (lambda (p)\n",
    "                   (let ((r2 (+ (expt (car p) 2) (expt (cadr p) 2))))\n",
    "                     (cond ((<= r2 (expt 4 2)) 10)\n",
    "                           ((<= r2 (expt 8 2)) 9)\n",
    "                           ((<= r2 (expt 12 2)) 8)\n",
    "                           ((<= r2 (expt 16 2)) 7)\n",
    "                           ((<= r2 (expt 20 2)) 6)\n",
    "                           ((<= r2 (expt 24 2)) 5)\n",
    "                           ((<= r2 (expt 28 2)) 4)\n",
    "                           ((<= r2 (expt 32 2)) 3)\n",
    "                           ((<= r2 (expt 36 2)) 2)\n",
    "                           ((<= r2 (expt 40 2)) 1)  \n",
    "                           (else 0)))))\n",
    "\n",
    ";もちろん　(expt hoge 2) は (* hoge hoge) でもよいですね\n",
    "\n",
    "(arcpoint '(1.454 7.041))"
   ]
  },
  {
   "cell_type": "code",
   "execution_count": 4,
   "metadata": {
    "collapsed": false,
    "deletable": true,
    "editable": true
   },
   "outputs": [
    {
     "name": "stdout",
     "output_type": "stream",
     "text": [
      " arcpoint\r\n",
      " arcpoint-sub\r\n",
      " arcpoint\r\n",
      " 9\r\n"
     ]
    }
   ],
   "source": [
    ";もしもあなたが　２引数のプログラム\n",
    "\n",
    "(define arcpoint (lambda (x y)\n",
    "                   (let ((r2 (+ (expt x 2) (expt y 2))))\n",
    "                     (cond ((<= r2 (expt 4 2)) 10)\n",
    "                           ((<= r2 (expt 8 2)) 9)\n",
    "                           ((<= r2 (expt 12 2)) 8)\n",
    "                           ((<= r2 (expt 16 2)) 7)\n",
    "                           ((<= r2 (expt 20 2)) 6)\n",
    "                           ((<= r2 (expt 24 2)) 5)\n",
    "                           ((<= r2 (expt 28 2)) 4)\n",
    "                           ((<= r2 (expt 32 2)) 3)\n",
    "                           ((<= r2 (expt 36 2)) 2)\n",
    "                           ((<= r2 (expt 40 2)) 1)  \n",
    "                           (else 0)))))\n",
    "\n",
    "; のようなプログラムを書いてしまったら、全部やり直しでしょうか？　そんなことはないです\n",
    "\n",
    "(define arcpoint-sub  (lambda (x y)\n",
    "                   (let ((r2 (+ (expt x 2) (expt y 2))))\n",
    "                     (cond ((<= r2 (expt 4 2)) 10)\n",
    "                           ((<= r2 (expt 8 2)) 9)\n",
    "                           ((<= r2 (expt 12 2)) 8)\n",
    "                           ((<= r2 (expt 16 2)) 7)\n",
    "                           ((<= r2 (expt 20 2)) 6)\n",
    "                           ((<= r2 (expt 24 2)) 5)\n",
    "                           ((<= r2 (expt 28 2)) 4)\n",
    "                           ((<= r2 (expt 32 2)) 3)\n",
    "                           ((<= r2 (expt 36 2)) 2)\n",
    "                           ((<= r2 (expt 40 2)) 1)  \n",
    "                           (else 0)))))\n",
    "\n",
    ";これを呼び出す１引数のプログラムを書けばよいですね、なので名前をarcpoint-sub に変えてあります\n",
    "\n",
    "(define arcpoint (lambda (p) (arcpoint-sub (car p) (cadr p))))\n",
    "\n",
    "(arcpoint '(1.454 7.041))"
   ]
  },
  {
   "cell_type": "markdown",
   "metadata": {
    "deletable": true,
    "editable": true
   },
   "source": [
    "## Q4\n",
    "\n",
    "#### 行列✖️ベクトル\n",
    "\n",
    "2次の正方行列 $ \\left(\\begin{array}{cc}a & b \\\\c & d \\\\\\end{array}\\right) $ を リスト ((a b) (c d)) で 表すことにする。\n",
    "\n",
    "また 2次元のベクトル $ \\left( \\begin{array}{cc} v_{1}\\\\ v_{2}\\\\ \\end{array} \\right)　$ を リスト (v1 v2) で表すことにする。\n",
    "\n",
    "行列とベクトルの積 $ \\left(\\begin{array}{cc}a & b \\\\c & d \\\\\\end{array}\\right) $", 
    "$ \\left( \\begin{array}{cc} v_{1}\\\\ v_{2}\\\\ \\end{array} \\right)　$ を求める手続きを作成せよ。結果はベクトルになるよね\n",
    "\n",
    "もちろん $ \\left(\\begin{array}{cc}a & b \\\\c & d \\\\\\end{array}\\right)  \\left( \\begin{array}{cc} v_{1}\\\\ v_{2}\\\\ \\end{array} \\right) = \\left( \\begin{array}{cc} a v_{1}+b v_{2} \\\\ c v_{1}+d v_{2}\\\\ \\end{array} \\right)$ だよね\n",
    "\n",
    "\n",
    "手続きの定義と\n",
    "\n",
    "$ A = \\left(\\begin{array}{cc}4 & 7 \\\\5 & 2 \\\\\\end{array}\\right) $ , $ B  = \\left(\\begin{array}{cc}6 & -7 \\\\8 & 3 \\\\\\end{array}\\right) $\n",
    "\n",
    "\n",
    "$  V = \\left( \\begin{array}{cc} 3\\\\ 5\\\\ \\end{array} \\right) $\n,",
    "$  W = \\left( \\begin{array}{cc} 10 \\\\ -7\\\\ \\end{array} \\right) $\n",
    "\n",
    "として \n",
    "\n",
    "$ A \\cdot V $ \n",
    "\n",
    "$ B \\cdot W $\n",
    "\n",
    "を計算した実行例を示せ"
   ]
  },
  {
   "cell_type": "code",
   "execution_count": 5,
   "metadata": {
    "collapsed": false,
    "deletable": true,
    "editable": true
   },
   "outputs": [
    {
     "name": "stdout",
     "output_type": "stream",
     "text": [
      " matv\r\n",
      " A\r\n",
      " B\r\n",
      " V\r\n",
      " W\r\n",
      " (47 25)\r\n",
      " (109 59)\r\n"
     ]
    }
   ],
   "source": [
    "; car , cdr , cons あるいは list を組み合わせて使う問題\n",
    ";局所変数を扱う let を使うと 計算したいことが表現しやすくなるよ\n",
    "\n",
    "(define matv (lambda (m v)\n",
    "               (let ((a (caar m)) (b (cadar m))\n",
    "                     (c (caadr m)) (d  (cadadr m))\n",
    "                     (v1 (car v)) (v2 (cadr v)))\n",
    "                 (list (+ (* a v1) (* b v2))\n",
    "                       (+ (* c v1) (* d v2))))))\n",
    "\n",
    "(define A '((4 7) (5 2)))\n",
    "(define B '((6 -7) (8 3)))\n",
    "(define V '(3 5))\n",
    "(define W '(10 -7))\n",
    "\n",
    "(matv A V)\n",
    "(matv B W)"
   ]
  }
 ],
 "metadata": {
  "kernelspec": {
   "display_name": "Gauche",
   "language": "gauche",
   "name": "gauche"
  },
  "language_info": {
   "codemirror_mode": "scheme",
   "file_extension": ".scm",
   "mimetype": "text/plain",
   "name": "gauche"
  }
 },
 "nbformat": 4,
 "nbformat_minor": 1
}
