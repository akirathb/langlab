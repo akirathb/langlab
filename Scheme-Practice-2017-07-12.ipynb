{
 "cells": [
  {
   "cell_type": "markdown",
   "metadata": {
    "deletable": true,
    "editable": true
   },
   "source": [
    "## 練習問題 2017-07-12-01\n",
    "\n",
    "を利用して、端末から 誕生日を入力すると、\n",
    "\n",
    "以下実行例のように\n",
    "\n",
    "<pre>\n",
    "$ ./seiza.scm   \n",
    "あなたの生まれた月を入力して下さい: 7\n",
    "あなたの生まれた日を入力して下さい: 12     \n",
    "あなたの星座は cancer です   \n",
    "星座の属性は aqua です   \n",
    "$   \n",
    "</pre>\n",
    "\n",
    "\n",
    "\n",
    "星座と、その属性を表示する プログラムを作成せよ。\n",
    "\n",
    "例では、プログラムは seiza.scm となっていますが、プログラム名は自由です。また、表示されるテキストも自由に変えて下さい。\n",
    "\n",
    "定義と 十分な実行例を示せ。"
   ]
  },
  {
   "cell_type": "code",
   "execution_count": null,
   "metadata": {
    "collapsed": false,
    "deletable": true,
    "editable": true,
    "scrolled": true
   },
   "outputs": [],
   "source": []
  },
  {
   "cell_type": "markdown",
   "metadata": {
    "deletable": true,
    "editable": true
   },
   "source": [
    "## 練習問題 2017-07-12-2\n",
    "\n",
    "2人の相性を占うプログラムを作成せよ\n",
    "\n",
    "実行例\n",
    "<pre>\n",
    "$ ./aisyo.scm 7 12\n",
    "あなたの星座は cancer です\n",
    "星座の属性は aqua です\n",
    "誰かの生まれた月を入力して下さい: 1\n",
    "誰かの生まれた日を入力して下さい: 1\n",
    "その誰かの星座は capricorn です\n",
    "その星座の属性は earth です\n",
    "二人の相性は 素晴らしい です\n",
    "$ ./aisyo.scm 7 12\n",
    "あなたの星座は cancer です\n",
    "星座の属性は aqua です\n",
    "誰かの生まれた月を入力して下さい: 2\n",
    "誰かの生まれた日を入力して下さい: 1\n",
    "その誰かの星座は aquarius です\n",
    "その星座の属性は wind です\n",
    "二人の相性は 良いとは言えないかも です\n",
    "$ ./aisyo.scm 7 12\n",
    "あなたの星座は cancer です\n",
    "星座の属性は aqua です\n",
    "誰かの生まれた月を入力して下さい: 3\n",
    "誰かの生まれた日を入力して下さい: 1\n",
    "その誰かの星座は pisces です\n",
    "その星座の属性は aqua です\n",
    "二人の相性は とても素晴らしい です\n",
    "$ ./aisyo.scm 7 12\n",
    "あなたの星座は cancer です\n",
    "星座の属性は aqua です\n",
    "誰かの生まれた月を入力して下さい: 4\n",
    "誰かの生まれた日を入力して下さい: 1\n",
    "その誰かの星座は aries です\n",
    "その星座の属性は flame です\n",
    "二人の相性は 悪くはないかも です\n",
    "$\n",
    "</pre>\n",
    "\n",
    "ただし、(実行例のように)\n",
    "\n",
    "1人の誕生日は、コマンドラインの引数として与える。\n",
    "\n",
    "もう1人の誕生日は プログラム中で、入力する\n",
    "\n",
    "この問題も、プログラム名や出力するテキストは自由です。\n",
    "\n",
    "定義と 十分な実行例を示せ。"
   ]
  },
  {
   "cell_type": "code",
   "execution_count": null,
   "metadata": {
    "collapsed": false,
    "deletable": true,
    "editable": true
   },
   "outputs": [],
   "source": []
  },
  {
   "cell_type": "markdown",
   "metadata": {
    "deletable": true,
    "editable": true
   },
   "source": [
    "## 練習問題 2017-07-12-3\n",
    "\n",
    "自然数 n の k桁目の数を返す手続を作成せよ。nが k 桁より少ない場合は 0を返せ。\n",
    "\n",
    "<pre>\n",
    "123 の 1 桁目 は 3\n",
    "123 の 2 桁目 は 2\n",
    "123 の 3 桁目 は 1\n",
    "</pre>\n",
    "お約束により、4以上の　桁目は全て 0 となります。\n",
    "<pre>\n",
    "123 の 4 桁目 は 0\n",
    "</pre>\n",
    "ノーヒントで、考えられますか？\n",
    "\n",
    " 定義と 適切な実行例 を 3つ以上示せ"
   ]
  },
  {
   "cell_type": "code",
   "execution_count": null,
   "metadata": {
    "collapsed": true,
    "deletable": true,
    "editable": true
   },
   "outputs": [],
   "source": []
  },
  {
   "cell_type": "markdown",
   "metadata": {
    "deletable": true,
    "editable": true
   },
   "source": [
    "## 練習問題 2017-07-12-4\n",
    "\n",
    "前問を使うと 8桁の 生年月日の数をバラバラして足すということができるようになりますよね。\n",
    "\n",
    "（そういう手続きをつくってください。）\n",
    "\n",
    "これで、得られた数 を またバラバラにして足すという作業を \n",
    "\n",
    "数が 1桁になるまで繰り返して得られる数は、運命数とか、エンジェルナンバーとか、誕生数、ソウルナンバーとか、いろいろな呼び名で呼ばれています。\n",
    "\n",
    "またこの数が、性格とか、職業とかの占いに使われたりしています。（科学的、統計的な、根拠が示されていないので、全く当てにならないとは思います。信じるか信じないかは、あなた次第　の類ですね）\n",
    "\n",
    "運命数とか、エンジェルナンバーとか、誕生数、ソウルナンバ　などで、ググって\n",
    "\n",
    "引数として 誕生日の８桁の数字を与えると。占いを行うプログラムを作成せよ。\n",
    "\n",
    "定義と、適切な実行例を示せ\n",
    "\n",
    "実行例の例 \n",
    "<pre>\n",
    "$ ./soul.scm 20170712\n",
    "あなたは平和を愛する主義ですね\n",
    "$\n",
    "</pre>\n",
    "\n",
    "また、占いの参考にした ウェブページのアドレスも示して下さい。（出典を明らかにして下さいということ。もし、あなたが、何かの教祖なら、教祖たる、その力を示してくれても良いですが）\n"
   ]
  },
  {
   "cell_type": "code",
   "execution_count": null,
   "metadata": {
    "collapsed": true,
    "deletable": true,
    "editable": true
   },
   "outputs": [],
   "source": []
  }
 ],
 "metadata": {
  "kernelspec": {
   "display_name": "Gauche",
   "language": "gauche",
   "name": "gauche"
  },
  "language_info": {
   "codemirror_mode": "scheme",
   "file_extension": ".scm",
   "mimetype": "text/plain",
   "name": "gauche"
  }
 },
 "nbformat": 4,
 "nbformat_minor": 1
}
