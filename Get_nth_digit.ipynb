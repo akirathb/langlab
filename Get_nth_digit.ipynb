{
 "cells": [
  {
   "cell_type": "markdown",
   "metadata": {
    "collapsed": true
   },
   "source": [
    "# Get nth digit of number"
   ]
  },
  {
   "cell_type": "markdown",
   "metadata": {},
   "source": [
    "## 数の n桁目を得る\n",
    "### その前に シフトの話"
   ]
  },
  {
   "cell_type": "markdown",
   "metadata": {},
   "source": [
    "#### 左に1桁シフト 1番左に 0を挿入\n",
    "\n",
    "###### 12345を 1桁左にシフト すると 123450\n",
    "\n",
    "#### 右に1桁シフト　1番左を取り除く\n",
    "\n",
    "###### 12345 を 1桁右にシフト すると 1234\n",
    "\n",
    "シフトは計算で求まる\n",
    "\n",
    "- 12345を 1桁左にシフト　10をかける\n",
    "- 12345を 2桁左にシフト　100をかける\n",
    "- 12345を 3桁左にシフト　1000をかける\n",
    "\n",
    "- 10は $ 10^1 $ \n",
    "- 100は $ 10^2 $\n",
    "- 1000は $ 10^3 $ \n",
    "\n",
    "なので n桁左シフトは $ 10^n $ を掛ければよいね\n",
    "\n",
    "- 12345を 1桁右にシフト　10で割る\n",
    "- 12345を 2桁右にシフト　100で割る\n",
    "- 12345を 3桁右にシフト　1000で割る\n",
    "\n",
    "- 10は $ 10^1 $ \n",
    "- 100は $ 10^2 $\n",
    "- 1000は $ 10^3 $ \n",
    "\n",
    "なので n桁右シフトは 10^n $ で割ればよいね"
   ]
  },
  {
   "cell_type": "markdown",
   "metadata": {},
   "source": [
    "### 10進数で　一番下の桁を得るには\n",
    "\n",
    "- 123 なら　3\n",
    "- 12345 なら 5\n",
    "- 9876532121　なら 1 \n",
    "\n",
    "を得るには、これは簡単ですよね 10で割った余り"
   ]
  },
  {
   "cell_type": "markdown",
   "metadata": {},
   "source": [
    "#  ということで ある数(整数)の n 桁目を得るには\n",
    "\n",
    "#####  その数を n-1 桁 右にシフトして、一番下の桁を得れば 良いですね\n",
    "\n",
    "######  その数を $10^{(n-1)}$ で割った商を  10で割った余り ということです"
   ]
  },
  {
   "cell_type": "markdown",
   "metadata": {
    "collapsed": true
   },
   "source": [
    "### このことは 一般化できますね $k$ 進数で表現されている数の $n$ 桁目を得るには\n",
    "\n",
    " $ k^{(n-1)} $ で割った商を $k$ で割った余り"
   ]
  },
  {
   "cell_type": "code",
   "execution_count": 3,
   "metadata": {
    "collapsed": false
   },
   "outputs": [
    {
     "name": "stdout",
     "output_type": "stream",
     "text": [
      " 11259375\r\n"
     ]
    }
   ],
   "source": [
    "; 16進数の  abcdef は 十進数では , Gauche 組み込みの便利な手続きを使うと\n",
    "\n",
    "(string->number \"abcdef\" 16)"
   ]
  },
  {
   "cell_type": "code",
   "execution_count": 12,
   "metadata": {
    "collapsed": false
   },
   "outputs": [
    {
     "name": "stdout",
     "output_type": "stream",
     "text": [
      " 11259375\r\n",
      " abcdef\r\n"
     ]
    }
   ],
   "source": [
    "; a は 10 , b は 11 , c は 12 , d は 13 , e は 14 , f は 15 を表すので　定義に従って計算すれば  16進数の  abcdef　は\n",
    "\n",
    "(+ (* 10  (expt 16 5)) (* 11  (expt 16 4)) (* 12  (expt 16 3)) (* 13  (expt 16 2)) (* 14  (expt 16 1)) (* 15 (expt 16 0)))\n",
    "\n",
    "; シンボル abcdef にバインドしておきます\n",
    "\n",
    "(define abcdef (+ (* 10  (expt 16 5)) (* 11  (expt 16 4)) (* 12  (expt 16 3)) (* 13  (expt 16 2)) (* 14  (expt 16 1)) (* 15 (expt 16 0))))"
   ]
  },
  {
   "cell_type": "code",
   "execution_count": 8,
   "metadata": {
    "collapsed": false
   },
   "outputs": [
    {
     "name": "stdout",
     "output_type": "stream",
     "text": [
      " 10\r\n"
     ]
    }
   ],
   "source": [
    "; 6桁目は a ですね つまり　10\n",
    "\n",
    "(mod (quotient abcdef (expt 16 (- 6 1))) 16)"
   ]
  },
  {
   "cell_type": "code",
   "execution_count": 11,
   "metadata": {
    "collapsed": false
   },
   "outputs": [
    {
     "name": "stdout",
     "output_type": "stream",
     "text": [
      " \"a\"\r\n"
     ]
    }
   ],
   "source": [
    "; 16進数の表記では\n",
    "\n",
    "(number->string (mod (quotient abcdef (expt 16 (- 6 1))) 16) 16)"
   ]
 ],
 "metadata": {
  "kernelspec": {
   "display_name": "Gauche",
   "language": "gauche",
   "name": "gauche"
  },
  "language_info": {
   "codemirror_mode": "scheme",
   "file_extension": ".scm",
   "mimetype": "text/plain",
   "name": "gauche"
  }
 },
 "nbformat": 4,
 "nbformat_minor": 0
}
