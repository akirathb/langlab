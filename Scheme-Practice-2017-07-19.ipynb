{
 "cells": [
  {
   "cell_type": "markdown",
   "metadata": {
    "deletable": true,
    "editable": true
   },
   "source": [
    "## 練習問題 2017-07-19-1\n",
    "\n",
    "長さ２の数のリストを 2次元のベクトルとみなします。\n",
    "\n",
    "2つの2次元のベクトルを与えて　\n",
    "その 和、差、内積を返す手続きを作成せよ。\n",
    "手続きの名前は\n",
    "\n",
    "- vplus\n",
    "- vminus\n",
    "- innerproduct\n",
    "\n",
    "とする.\n",
    "また、1つの2次元のベクトルと 数をあたえて\n",
    "そのベクトルとその数のスカラー倍したベクトルを返す手続きを作成せよ。\n",
    "\n",
    "手続きの名前は\n",
    "\n",
    "- scalarmulti\n",
    "\n",
    "とする\n",
    "これら ４つの手続きの定義と適切な実行例を示せ\n",
    " \n",
    "以下で定義される v1, v2, v3, v4  は　ここで考えている ２次元のベクトルです\n",
    "```scheme\n",
    "(define v1 '(1 4))\n",
    "(define v2 '(2 -1))\n",
    "(define v3 '(1 0))\n",
    "(define v4 '(2 4))\n",
    "```\n",
    "定義と\n",
    "\n",
    "v1 と v2 ,\n",
    "\n",
    "v2 と v3 ,\n",
    "\n",
    "v3 と v4,\n",
    "\n",
    "の 和、差、内積  を計算した例\n",
    "\n",
    "また v1,v2,v3,v4 を 2倍, 5倍 , -0.7 倍する例を示せ"
   ]
  },
  {
   "cell_type": "code",
   "execution_count": null,
   "metadata": {
    "collapsed": false,
    "deletable": true,
    "editable": true,
    "scrolled": true
   },
   "outputs": [],
   "source": []
  },
  {
   "cell_type": "markdown",
   "metadata": {
    "deletable": true,
    "editable": true
   },
   "source": [
    "## 練習問題 2017-07-19-2\n",
    "\n",
    "2次の正方行列 \n",
    "\n",
    "$ \\left(\\begin{array}{cc}a & b \\\\c & d \\\\\\end{array}\\right) $\n",
    "\n",
    "を リスト ((a b) (c d)) で　表すことにする。\n",
    "\n",
    "2つの2次の正方行列を与えて　\n",
    "その 和、差、積を返す手続きを作成せよ。\n",
    "手続きの名前は\n",
    "\n",
    "- mplus\n",
    "- mminus\n",
    "- mmulti\n",
    "\n",
    "とする\n",
    "\n",
    "また、1つの2次の正方行列と 数をあたえて\n",
    "その2次の正方行列をスカラー倍したベクトルを返す手続きを作成せよ。\n",
    "\n",
    "手続きの名前は\n",
    "\n",
    "- mscalar\n",
    "\n",
    "とする"
   ]
  },
  {
   "cell_type": "code",
   "execution_count": null,
   "metadata": {
    "collapsed": false,
    "deletable": true,
    "editable": true
   },
   "outputs": [],
   "source": []
  },
  {
   "cell_type": "markdown",
   "metadata": {
    "deletable": true,
    "editable": true
   },
   "source": [
    "## 練習問題 2017-07-19-3\n",
    "\n",
    "(前の問題にさらに続けて)\n",
    "\n",
    "転置行列 (行と列を入れ替えた行列）を返す手続きを作成せよ \n",
    "\n",
    "$ A $ の 転置行列は $ {}^{t}A $ と表す "
   ]
  },
  {
   "cell_type": "code",
   "execution_count": null,
   "metadata": {
    "collapsed": true,
    "deletable": true,
    "editable": true
   },
   "outputs": [],
   "source": []
  },
  {
   "cell_type": "markdown",
   "metadata": {},
   "source": [
    "## 練習問題 2017-07-19-4\n",
    "\n",
    "$ A = \\left(\\begin{array}{cc}2 & 5 \\\\7 & -3 \\\\\\end{array}\\right) , B = \\left(\\begin{array}{cc}3 & -5 \\\\2 & -9 \\\\\\end{array}\\right) $ の時　今まで作成した手続きを使って 以下を計算せよ これは実行例だけでよい。\n",
    "\n",
    "* $ 3A - 5(B + A) $\n",
    "* $ 5(A + B) - 2(3A + B) $\n",
    "* $ B - {}^{t}(A - B) $\n",
    "* $ 2({}^{t}A + 3B) + 5(^{t}B - ^{t}A) $\n",
    "\n"
   ]
  },
  {
   "cell_type": "code",
   "execution_count": null,
   "metadata": {
    "collapsed": true
   },
   "outputs": [],
   "source": []
  }
 ],
 "metadata": {
  "kernelspec": {
   "display_name": "Gauche",
   "language": "gauche",
   "name": "gauche"
  },
  "language_info": {
   "codemirror_mode": "scheme",
   "file_extension": ".scm",
   "mimetype": "text/plain",
   "name": "gauche"
  }
 },
 "nbformat": 4,
 "nbformat_minor": 1
}
