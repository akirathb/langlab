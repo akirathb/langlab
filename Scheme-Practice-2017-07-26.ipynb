{
 "cells": [
  {
   "cell_type": "markdown",
   "metadata": {
    "deletable": true,
    "editable": true
   },
   "source": [
    "## 練習問題 2017-07-26-0\n",
    "\n",
    "2次の正方行列 \n",
    "\n",
    "$ \\left(\\begin{array}{cc}a & b \\\\c & d \\\\\\end{array}\\right) $\n",
    "\n",
    "を リスト ((a b) (c d)) で　表すことにする。\n",
    "\n",
    "以下の行列をリストで表現せよ。\n",
    "\n",
    "$ A = \\left(\\begin{array}{cc}4 & 7 \\\\5 & 2 \\\\\\end{array}\\right) $\n",
    "\n",
    "$ B  = \\left(\\begin{array}{cc}6 & -7 \\\\8 & 3 \\\\\\end{array}\\right) $\n",
    "\n",
    "$ C  = \\left(\\begin{array}{cc}18 & 6 \\\\27 & 4 \\\\\\end{array}\\right) $\n",
    "\n",
    "$ D  = \\left(\\begin{array}{cc}3 & -18 \\\\-8 & 13 \\\\\\end{array}\\right) $\n"
   ]
  },
  {
   "cell_type": "code",
   "execution_count": null,
   "metadata": {
    "collapsed": false,
    "deletable": true,
    "editable": true
   },
   "outputs": [],
   "source": []
  },
  {
   "cell_type": "markdown",
   "metadata": {
    "deletable": true,
    "editable": true
   },
   "source": [
    "## 練習問題 2017-07-26-1\n",
    "\n",
    "(前の問題に続けて)\n",
    "\n",
    "行列式を返す手続きを作成せよ　\n",
    "\n",
    "定義と、例に示した行列 $ A,B,C,D $ の行列式を求める実行例を示せ"
   ]
  },
  {
   "cell_type": "code",
   "execution_count": null,
   "metadata": {
    "collapsed": true,
    "deletable": true,
    "editable": true
   },
   "outputs": [],
   "source": []
  },
  {
   "cell_type": "markdown",
   "metadata": {
    "deletable": true,
    "editable": true
   },
   "source": [
    "## 練習問題 2017-07-26-2\n",
    "\n",
    "(前の問題にさらに続けて)\n",
    "\n",
    "\n",
    "逆行列を返す手続きを作成せよ （ただし、前問の手続きを必ず利用すること。また逆行列を持たない時は #f を返すこととする）\n",
    "\n",
    "実行に必要な すべての 手続きの 定義と、例にあげた行列 $ A,B,C,D $ の逆行列を求める実行例を示せ"
   ]
  },
  {
   "cell_type": "code",
   "execution_count": null,
   "metadata": {
    "collapsed": true,
    "deletable": true,
    "editable": true
   },
   "outputs": [],
   "source": []
  }
 ],
 "metadata": {
  "kernelspec": {
   "display_name": "Gauche",
   "language": "gauche",
   "name": "gauche"
  },
  "language_info": {
   "codemirror_mode": "scheme",
   "file_extension": ".scm",
   "mimetype": "text/plain",
   "name": "gauche"
  }
 },
 "nbformat": 4,
 "nbformat_minor": 1
}
